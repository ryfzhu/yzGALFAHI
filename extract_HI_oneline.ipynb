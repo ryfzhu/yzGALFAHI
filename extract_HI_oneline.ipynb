{
 "cells": [
  {
   "cell_type": "code",
   "execution_count": 1,
   "metadata": {},
   "outputs": [],
   "source": [
    "def extract_HI_oneline_v2(tar_ra, tar_dec, header, cube_data, beam):\n",
    "    '''\n",
    "    tar_ra/tar_dec: the ra/dec for the sightline, in degree\n",
    "    cubefile: HI4PI or GALFA-HI data file\n",
    "    beam: the beam size of the corresponding beam,\n",
    "          should be in unit of degree;\n",
    "          for HI4PI, beam=16/60.\n",
    "          for GALFA-HI, beam=4/60.\n",
    "    '''\n",
    "    \n",
    "    from astropy.coordinates import SkyCoord\n",
    "    import astropy.io.fits as fits \n",
    "    import astropy.units as u\n",
    "    import numpy as np\n",
    "    from yzGALFAHI.get_cubeinfo import get_cubeinfo ### Harrison, you need to change this line.\n",
    "    \n",
    "    # get sky coordinate for the target\n",
    "    tar_coord = SkyCoord(ra=tar_ra*u.deg, dec=tar_dec*u.deg, frame='icrs')\n",
    "    print('Sightline: RA=%.2f, DEC=%.2f, l=%.2f, b=%.2f (degree)'%(tar_ra, tar_dec, \n",
    "                                                                   tar_coord.galactic.l.degree, \n",
    "                                                                   tar_coord.galactic.b.degree))\n",
    "    print('Extracted within beam size: %.2f arcmin'%(beam*60))\n",
    "    \n",
    "    # get sky coordiante for all the coordinates in the cube \n",
    "    cube_ra, cube_dec, cube_vel = get_cubeinfo(header)\n",
    "    cube_coord = SkyCoord(ra=cube_ra*u.deg, dec=cube_dec*u.deg, frame='icrs')\n",
    "    print('Cube RA range: [%.2f, %.2f], DEC range: [%.2f, %.2f]'%(cube_ra[0, -1], \n",
    "                                                                  cube_ra[0, 0], \n",
    "                                                                  cube_dec[0, 0], \n",
    "                                                                  cube_dec[-1, 0]))\n",
    "    \n",
    "    # calculate the distance between the designated point and the whole cube\n",
    "    dist_coord = tar_coord.separation(cube_coord)\n",
    "    dist = dist_coord.degree # distance in degree \n",
    "    \n",
    "    within_beam_2d = dist<=beam/2. # beam should be in unit of degree. \n",
    "            \n",
    "    within_beam_3d = np.asarray([within_beam_2d]*cube_vel.size)\n",
    "\n",
    "    cube_data[np.logical_not(within_beam_3d)] = np.nan\n",
    "\n",
    "    mean_spec = np.nanmean(np.nanmean(cube_data, axis=2), axis=1)\n",
    "    \n",
    "    return cube_vel, mean_spec"
   ]
  },
  {
   "cell_type": "code",
   "execution_count": 2,
   "metadata": {},
   "outputs": [],
   "source": [
    "def extract_HI_oneline(tar_ra, tar_dec, cube_file, beam):\n",
    "    '''\n",
    "    tar_ra/tar_dec: the ra/dec for the sightline, in degree\n",
    "    cubefile: HI4PI or GALFA-HI data file\n",
    "    beam: the beam size of the corresponding beam,\n",
    "          should be in unit of degree;\n",
    "          for HI4PI, beam=16/60.\n",
    "          for GALFA-HI, beam=4/60.\n",
    "    '''\n",
    "    \n",
    "    from astropy.coordinates import SkyCoord\n",
    "    import astropy.io.fits as fits \n",
    "    import astropy.units as u\n",
    "    import numpy as np\n",
    "    from yzGALFAHI.get_cubeinfo import get_cubeinfo ### Harrison, you need to change this line.\n",
    "    \n",
    "    # get sky coordinate for the target\n",
    "    tar_coord = SkyCoord(ra=tar_ra*u.deg, dec=tar_dec*u.deg, frame='icrs')\n",
    "    print('Sightline: RA=%.2f, DEC=%.2f, l=%.2f, b=%.2f (degree)'%(tar_ra, tar_dec, \n",
    "                                                                   tar_coord.galactic.l.degree, \n",
    "                                                                   tar_coord.galactic.b.degree))\n",
    "    print('Extracted within beam size: %.2f arcmin'%(beam*60))\n",
    "    \n",
    "    # get sky coordiante for all the coordinates in the cube \n",
    "    header = fits.getheader(cube_file)\n",
    "    cube_ra, cube_dec, cube_vel = get_cubeinfo(header)\n",
    "    cube_coord = SkyCoord(ra=cube_ra*u.deg, dec=cube_dec*u.deg, frame='icrs')\n",
    "    print('Cube RA range: [%.2f, %.2f], DEC range: [%.2f, %.2f]'%(cube_ra[0, -1], \n",
    "                                                                  cube_ra[0, 0], \n",
    "                                                                  cube_dec[0, 0], \n",
    "                                                                  cube_dec[-1, 0]))\n",
    "    \n",
    "    # calculate the distance between the designated point and the whole cube\n",
    "    dist_coord = tar_coord.separation(cube_coord)\n",
    "    dist = dist_coord.degree # distance in degree \n",
    "    \n",
    "    within_beam_2d = dist<=beam/2. # beam should be in unit of degree. \n",
    "            \n",
    "    within_beam_3d = np.asarray([within_beam_2d]*cube_vel.size)\n",
    "\n",
    "    cube_data = fits.getdata(cube_file)\n",
    "    cube_data[np.logical_not(within_beam_3d)] = np.nan\n",
    "\n",
    "    mean_spec = np.nanmean(np.nanmean(cube_data, axis=2), axis=1)\n",
    "    \n",
    "    return cube_vel, mean_spec"
   ]
  },
  {
   "cell_type": "code",
   "execution_count": 3,
   "metadata": {},
   "outputs": [],
   "source": [
    "tar_ra = 280.125  # deg\n",
    "tar_dec = 14.224 # deg\n",
    "beam = 4/60. # deg \n",
    "# cube_file = '/Users/Yong/Desktop/temp_cubes/CAR_E01.fits'\n",
    "cube_file = '/Volumes/YongData2TB/GALFAHI_DR2/RC5/Wide/GALFA_HI_RA+DEC_276.00+18.35_W.fits'\n",
    "\n",
    "import astropy.io.fits as fits\n",
    "\n",
    "header = fits.getheader(cube_file)\n",
    "cube_data = fits.getdata(cube_file)"
   ]
  },
  {
   "cell_type": "code",
   "execution_count": 4,
   "metadata": {},
   "outputs": [
    {
     "name": "stdout",
     "output_type": "stream",
     "text": [
      "Sightline: RA=280.12, DEC=14.22, l=44.47, b=8.81 (degree)\n",
      "Extracted within beam size: 4.00 arcmin\n",
      "Cube RA range: [271.74, 280.26], DEC range: [14.09, 22.61]\n"
     ]
    },
    {
     "name": "stderr",
     "output_type": "stream",
     "text": [
      "WARNING: FITSFixedWarning: 'spcfix' made the change 'Changed CTYPE1 from 'VELO-LSR' to 'VOPT', and SPECSYS to 'LSRK' (VELREF=0)'. [astropy.wcs.wcs]\n",
      "/anaconda3/lib/python3.6/site-packages/ipykernel_launcher.py:42: RuntimeWarning: Mean of empty slice\n"
     ]
    }
   ],
   "source": [
    "cube_vel, mean_spec = extract_HI_oneline_v2(tar_ra, tar_dec, header, cube_data, beam)"
   ]
  },
  {
   "cell_type": "code",
   "execution_count": 5,
   "metadata": {},
   "outputs": [
    {
     "data": {
      "text/plain": [
       "[<matplotlib.lines.Line2D at 0x81df9aac8>]"
      ]
     },
     "execution_count": 5,
     "metadata": {},
     "output_type": "execute_result"
    },
    {
     "data": {
      "image/png": "[encoded data removed]",
      "text/plain": [
       "<Figure size 432x288 with 1 Axes>"
      ]
     },
     "metadata": {
      "needs_background": "light"
     },
     "output_type": "display_data"
    }
   ],
   "source": [
    "%matplotlib inline\n",
    "import matplotlib.pyplot as plt\n",
    "plt.plot(cube_vel, mean_spec)\n",
    "\n",
    "# should do a sanity check with this website: https://www.astro.uni-bonn.de/hisurvey/AllSky_profiles/"
   ]
  },
  {
   "cell_type": "code",
   "execution_count": null,
   "metadata": {},
   "outputs": [],
   "source": []
  }
 ],
 "metadata": {
  "kernelspec": {
   "display_name": "Python 3",
   "language": "python",
   "name": "python3"
  },
  "language_info": {
   "codemirror_mode": {
    "name": "ipython",
    "version": 3
   },
   "file_extension": ".py",
   "mimetype": "text/x-python",
   "name": "python",
   "nbconvert_exporter": "python",
   "pygments_lexer": "ipython3",
   "version": "3.6.6"
  }
 },
 "nbformat": 4,
 "nbformat_minor": 2
}
